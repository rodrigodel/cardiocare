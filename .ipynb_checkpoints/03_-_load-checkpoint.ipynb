{
 "cells": [
  {
   "cell_type": "code",
   "execution_count": 1,
   "id": "73385e50-26bb-4fe1-956e-45bf2539fb74",
   "metadata": {},
   "outputs": [],
   "source": [
    "import pandas as pd\n",
    "import numpy as np\n",
    "import matplotlib.pyplot as plt\n",
    "import seaborn as sns"
   ]
  },
  {
   "cell_type": "code",
   "execution_count": 4,
   "id": "d251b9e4-90c7-4448-8b15-b18afce123d3",
   "metadata": {},
   "outputs": [],
   "source": [
    "df = pd.read_csv(\"data/staging_data.csv\", delimiter=\",\")"
   ]
  },
  {
   "cell_type": "code",
   "execution_count": 5,
   "id": "102dbd24-8781-465e-9a45-422098cefe68",
   "metadata": {},
   "outputs": [
    {
     "data": {
      "text/html": [
       "<div>\n",
       "<style scoped>\n",
       "    .dataframe tbody tr th:only-of-type {\n",
       "        vertical-align: middle;\n",
       "    }\n",
       "\n",
       "    .dataframe tbody tr th {\n",
       "        vertical-align: top;\n",
       "    }\n",
       "\n",
       "    .dataframe thead th {\n",
       "        text-align: right;\n",
       "    }\n",
       "</style>\n",
       "<table border=\"1\" class=\"dataframe\">\n",
       "  <thead>\n",
       "    <tr style=\"text-align: right;\">\n",
       "      <th></th>\n",
       "      <th>id</th>\n",
       "      <th>age</th>\n",
       "      <th>gender</th>\n",
       "      <th>height</th>\n",
       "      <th>weight</th>\n",
       "      <th>ap_hi</th>\n",
       "      <th>ap_lo</th>\n",
       "      <th>cholesterol</th>\n",
       "      <th>gluc</th>\n",
       "      <th>smoke</th>\n",
       "      <th>alco</th>\n",
       "      <th>active</th>\n",
       "      <th>cardio</th>\n",
       "      <th>age_years</th>\n",
       "    </tr>\n",
       "  </thead>\n",
       "  <tbody>\n",
       "    <tr>\n",
       "      <th>0</th>\n",
       "      <td>0</td>\n",
       "      <td>18393</td>\n",
       "      <td>masculino</td>\n",
       "      <td>168</td>\n",
       "      <td>62.0</td>\n",
       "      <td>110</td>\n",
       "      <td>80</td>\n",
       "      <td>normal</td>\n",
       "      <td>normal</td>\n",
       "      <td>0</td>\n",
       "      <td>0</td>\n",
       "      <td>1</td>\n",
       "      <td>0</td>\n",
       "      <td>50</td>\n",
       "    </tr>\n",
       "    <tr>\n",
       "      <th>1</th>\n",
       "      <td>1</td>\n",
       "      <td>20228</td>\n",
       "      <td>feminino</td>\n",
       "      <td>156</td>\n",
       "      <td>85.0</td>\n",
       "      <td>140</td>\n",
       "      <td>90</td>\n",
       "      <td>muito_alto</td>\n",
       "      <td>normal</td>\n",
       "      <td>0</td>\n",
       "      <td>0</td>\n",
       "      <td>1</td>\n",
       "      <td>1</td>\n",
       "      <td>55</td>\n",
       "    </tr>\n",
       "    <tr>\n",
       "      <th>2</th>\n",
       "      <td>2</td>\n",
       "      <td>18857</td>\n",
       "      <td>feminino</td>\n",
       "      <td>165</td>\n",
       "      <td>64.0</td>\n",
       "      <td>130</td>\n",
       "      <td>70</td>\n",
       "      <td>muito_alto</td>\n",
       "      <td>normal</td>\n",
       "      <td>0</td>\n",
       "      <td>0</td>\n",
       "      <td>0</td>\n",
       "      <td>1</td>\n",
       "      <td>51</td>\n",
       "    </tr>\n",
       "    <tr>\n",
       "      <th>3</th>\n",
       "      <td>3</td>\n",
       "      <td>17623</td>\n",
       "      <td>masculino</td>\n",
       "      <td>169</td>\n",
       "      <td>82.0</td>\n",
       "      <td>150</td>\n",
       "      <td>100</td>\n",
       "      <td>normal</td>\n",
       "      <td>normal</td>\n",
       "      <td>0</td>\n",
       "      <td>0</td>\n",
       "      <td>1</td>\n",
       "      <td>1</td>\n",
       "      <td>48</td>\n",
       "    </tr>\n",
       "    <tr>\n",
       "      <th>4</th>\n",
       "      <td>4</td>\n",
       "      <td>17474</td>\n",
       "      <td>feminino</td>\n",
       "      <td>156</td>\n",
       "      <td>56.0</td>\n",
       "      <td>100</td>\n",
       "      <td>60</td>\n",
       "      <td>normal</td>\n",
       "      <td>normal</td>\n",
       "      <td>0</td>\n",
       "      <td>0</td>\n",
       "      <td>0</td>\n",
       "      <td>0</td>\n",
       "      <td>47</td>\n",
       "    </tr>\n",
       "  </tbody>\n",
       "</table>\n",
       "</div>"
      ],
      "text/plain": [
       "   id    age     gender  height  weight  ap_hi  ap_lo cholesterol    gluc  \\\n",
       "0   0  18393  masculino     168    62.0    110     80      normal  normal   \n",
       "1   1  20228   feminino     156    85.0    140     90  muito_alto  normal   \n",
       "2   2  18857   feminino     165    64.0    130     70  muito_alto  normal   \n",
       "3   3  17623  masculino     169    82.0    150    100      normal  normal   \n",
       "4   4  17474   feminino     156    56.0    100     60      normal  normal   \n",
       "\n",
       "   smoke  alco  active  cardio  age_years  \n",
       "0      0     0       1       0         50  \n",
       "1      0     0       1       1         55  \n",
       "2      0     0       0       1         51  \n",
       "3      0     0       1       1         48  \n",
       "4      0     0       0       0         47  "
      ]
     },
     "execution_count": 5,
     "metadata": {},
     "output_type": "execute_result"
    }
   ],
   "source": [
    "df.head()"
   ]
  },
  {
   "cell_type": "code",
   "execution_count": 6,
   "id": "16f4a5ae-e13a-49df-9f23-dc324284b2d5",
   "metadata": {},
   "outputs": [
    {
     "name": "stdout",
     "output_type": "stream",
     "text": [
      "Collecting mysql-connector-python\n",
      "  Downloading mysql_connector_python-9.2.0-cp312-cp312-win_amd64.whl.metadata (6.2 kB)\n",
      "Collecting sqlalchemy\n",
      "  Downloading sqlalchemy-2.0.39.tar.gz (9.6 MB)\n",
      "     ---------------------------------------- 0.0/9.6 MB ? eta -:--:--\n",
      "     ------------------------------------ --- 8.9/9.6 MB 46.3 MB/s eta 0:00:01\n",
      "     ---------------------------------------- 9.6/9.6 MB 43.0 MB/s eta 0:00:00\n",
      "  Installing build dependencies: started\n",
      "  Installing build dependencies: finished with status 'done'\n",
      "  Getting requirements to build wheel: started\n",
      "  Getting requirements to build wheel: finished with status 'done'\n",
      "  Preparing metadata (pyproject.toml): started\n",
      "  Preparing metadata (pyproject.toml): finished with status 'done'\n",
      "Collecting greenlet!=0.4.17 (from sqlalchemy)\n",
      "  Downloading greenlet-3.1.1-cp312-cp312-win_amd64.whl.metadata (3.9 kB)\n",
      "Requirement already satisfied: typing-extensions>=4.6.0 in c:\\users\\conta\\anaconda3\\envs\\cardiocare\\lib\\site-packages (from sqlalchemy) (4.12.2)\n",
      "Downloading mysql_connector_python-9.2.0-cp312-cp312-win_amd64.whl (16.1 MB)\n",
      "   ---------------------------------------- 0.0/16.1 MB ? eta -:--:--\n",
      "   ---------------------------------------- 16.1/16.1 MB 112.3 MB/s eta 0:00:00\n",
      "Downloading greenlet-3.1.1-cp312-cp312-win_amd64.whl (299 kB)\n",
      "Building wheels for collected packages: sqlalchemy\n",
      "  Building wheel for sqlalchemy (pyproject.toml): started\n",
      "  Building wheel for sqlalchemy (pyproject.toml): finished with status 'done'\n",
      "  Created wheel for sqlalchemy: filename=sqlalchemy-2.0.39-cp312-cp312-win_amd64.whl size=2087048 sha256=a136a7897951198041b5f1a1e9cf450082aab3bbf4b64a4c167b3282e533b7e4\n",
      "  Stored in directory: c:\\users\\conta\\appdata\\local\\pip\\cache\\wheels\\db\\6b\\e0\\e269aab7ae783de2f6f98ec4016eeab891366b6c0aa9140c26\n",
      "Successfully built sqlalchemy\n",
      "Installing collected packages: mysql-connector-python, greenlet, sqlalchemy\n",
      "Successfully installed greenlet-3.1.1 mysql-connector-python-9.2.0 sqlalchemy-2.0.39\n",
      "Note: you may need to restart the kernel to use updated packages.\n"
     ]
    }
   ],
   "source": [
    "#pip install mysql-connector-python sqlalchemy"
   ]
  },
  {
   "cell_type": "code",
   "execution_count": 9,
   "id": "59f3a9d0-9949-4a44-8837-874954147666",
   "metadata": {},
   "outputs": [],
   "source": [
    "from sqlalchemy import create_engine  # Importação correta do create_engine"
   ]
  },
  {
   "cell_type": "code",
   "execution_count": 11,
   "id": "1cdb1030-570c-4776-be00-c13d4f8785ec",
   "metadata": {},
   "outputs": [
    {
     "name": "stdout",
     "output_type": "stream",
     "text": [
      "Dados inseridos na tabela 'staging_cardiocare' do banco 'rodrigozambon08' com sucesso!\n"
     ]
    }
   ],
   "source": [
    "# Configurar a conexão com o MySQL\n",
    "db_user = \"rodrigozambon08\"\n",
    "db_password = \"1S3gpL3vhH\"\n",
    "db_host = \"mysql.rodrigozambon.com.br\"  # Ou IP do servidor MySQL\n",
    "db_name = \"rodrigozambon08\"\n",
    "table_name = \"staging_cardiocare\"\n",
    "\n",
    "# Criar a engine de conexão\n",
    "engine = create_engine(f\"mysql+mysqlconnector://{db_user}:{db_password}@{db_host}/{db_name}\")\n",
    "\n",
    "# Enviar os dados para o MySQL\n",
    "df.to_sql(name=table_name, con=engine, if_exists=\"replace\", index=False)\n",
    "\n",
    "print(f\"Dados inseridos na tabela '{table_name}' do banco '{db_name}' com sucesso!\")"
   ]
  },
  {
   "cell_type": "code",
   "execution_count": null,
   "id": "eca4ad9a-fc41-4b85-86a4-759c3545d1f4",
   "metadata": {},
   "outputs": [],
   "source": []
  },
  {
   "cell_type": "code",
   "execution_count": null,
   "id": "1332acad-54c5-4ba2-8979-021e1311def1",
   "metadata": {},
   "outputs": [],
   "source": []
  }
 ],
 "metadata": {
  "kernelspec": {
   "display_name": "Python 3 (ipykernel)",
   "language": "python",
   "name": "python3"
  },
  "language_info": {
   "codemirror_mode": {
    "name": "ipython",
    "version": 3
   },
   "file_extension": ".py",
   "mimetype": "text/x-python",
   "name": "python",
   "nbconvert_exporter": "python",
   "pygments_lexer": "ipython3",
   "version": "3.12.9"
  }
 },
 "nbformat": 4,
 "nbformat_minor": 5
}
